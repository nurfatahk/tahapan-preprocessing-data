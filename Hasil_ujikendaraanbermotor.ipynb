{
  "nbformat": 4,
  "nbformat_minor": 0,
  "metadata": {
    "colab": {
      "name": "Hasil_ujikendaraanbermotor.ipynb",
      "provenance": [],
      "collapsed_sections": [],
      "include_colab_link": true
    },
    "kernelspec": {
      "name": "python3",
      "display_name": "Python 3"
    },
    "language_info": {
      "name": "python"
    }
  },
  "cells": [
    {
      "cell_type": "markdown",
      "metadata": {
        "id": "view-in-github",
        "colab_type": "text"
      },
      "source": [
        "<a href=\"https://colab.research.google.com/github/nurfatahk/tahapan-preprocessing-data/blob/main/Hasil_ujikendaraanbermotor.ipynb\" target=\"_parent\"><img src=\"https://colab.research.google.com/assets/colab-badge.svg\" alt=\"Open In Colab\"/></a>"
      ]
    },
    {
      "cell_type": "code",
      "metadata": {
        "id": "SRDl-528nJ0x"
      },
      "source": [
        "import numpy as np #import library numpy untuk numerik\n",
        "import pandas as pd #import pandas untuk file csv\n",
        "from sklearn import tree #sklearn untuk import decision tree"
      ],
      "execution_count": null,
      "outputs": []
    },
    {
      "cell_type": "code",
      "metadata": {
        "id": "ZM3PbqhZqVRa"
      },
      "source": [
        "#membaca Dataset dari file ke pandas dataFrame\n",
        "uji = pd.read_csv('hasilujikendaraanbermotor.csv', delimiter=',', header=0)"
      ],
      "execution_count": null,
      "outputs": []
    },
    {
      "cell_type": "code",
      "metadata": {
        "colab": {
          "base_uri": "https://localhost:8080/",
          "height": 289
        },
        "id": "y-Er1knFqr3J",
        "outputId": "6ea65dff-fcc5-4bbf-b2c9-528448cf264b"
      },
      "source": [
        "uji.head()"
      ],
      "execution_count": null,
      "outputs": [
        {
          "output_type": "execute_result",
          "data": {
            "text/html": [
              "<div>\n",
              "<style scoped>\n",
              "    .dataframe tbody tr th:only-of-type {\n",
              "        vertical-align: middle;\n",
              "    }\n",
              "\n",
              "    .dataframe tbody tr th {\n",
              "        vertical-align: top;\n",
              "    }\n",
              "\n",
              "    .dataframe thead th {\n",
              "        text-align: right;\n",
              "    }\n",
              "</style>\n",
              "<table border=\"1\" class=\"dataframe\">\n",
              "  <thead>\n",
              "    <tr style=\"text-align: right;\">\n",
              "      <th></th>\n",
              "      <th>tanggal_uji</th>\n",
              "      <th>nomor_kendaraan</th>\n",
              "      <th>merek</th>\n",
              "      <th>bahan_bakar</th>\n",
              "      <th>tipe</th>\n",
              "      <th>tahun_pembuatan</th>\n",
              "      <th>alat_uji</th>\n",
              "      <th>keterangan</th>\n",
              "    </tr>\n",
              "  </thead>\n",
              "  <tbody>\n",
              "    <tr>\n",
              "      <th>0</th>\n",
              "      <td>2019-10-01</td>\n",
              "      <td>B9828FDD</td>\n",
              "      <td>TOYOTA</td>\n",
              "      <td>Solar</td>\n",
              "      <td>TRUCK</td>\n",
              "      <td>2017</td>\n",
              "      <td>BRAIN BEE / AGS 688 + OPA 100 / 110 90700 1175...</td>\n",
              "      <td>Lulus</td>\n",
              "    </tr>\n",
              "    <tr>\n",
              "      <th>1</th>\n",
              "      <td>2019-10-01</td>\n",
              "      <td>B9353UFA</td>\n",
              "      <td>MITSUBISHI</td>\n",
              "      <td>Solar</td>\n",
              "      <td>TRUCK</td>\n",
              "      <td>2014</td>\n",
              "      <td>BRAIN BEE / AGS 688 + OPA 100 / 110 90700 1175...</td>\n",
              "      <td>Lulus</td>\n",
              "    </tr>\n",
              "    <tr>\n",
              "      <th>2</th>\n",
              "      <td>2019-10-01</td>\n",
              "      <td>B9664UCS</td>\n",
              "      <td>MITSUBISHI</td>\n",
              "      <td>Solar</td>\n",
              "      <td>LAINNYA</td>\n",
              "      <td>2018</td>\n",
              "      <td>BRAIN BEE / AGS 688 + OPA 100 / 110 90700 1175...</td>\n",
              "      <td>Lulus</td>\n",
              "    </tr>\n",
              "    <tr>\n",
              "      <th>3</th>\n",
              "      <td>2019-10-01</td>\n",
              "      <td>B9558UFA</td>\n",
              "      <td>HINO</td>\n",
              "      <td>Solar</td>\n",
              "      <td>TRUCK</td>\n",
              "      <td>2017</td>\n",
              "      <td>BRAIN BEE / AGS 688 + OPA 100 / 110 90700 1175...</td>\n",
              "      <td>Tidak Lulus</td>\n",
              "    </tr>\n",
              "    <tr>\n",
              "      <th>4</th>\n",
              "      <td>2019-10-01</td>\n",
              "      <td>B9573UFA</td>\n",
              "      <td>HINO</td>\n",
              "      <td>Solar</td>\n",
              "      <td>LAINNYA</td>\n",
              "      <td>2017</td>\n",
              "      <td>BRAIN BEE / AGS 688 + OPA 100 / 110 90700 1175...</td>\n",
              "      <td>Lulus</td>\n",
              "    </tr>\n",
              "  </tbody>\n",
              "</table>\n",
              "</div>"
            ],
            "text/plain": [
              "  tanggal_uji  ...   keterangan\n",
              "0  2019-10-01  ...        Lulus\n",
              "1  2019-10-01  ...        Lulus\n",
              "2  2019-10-01  ...        Lulus\n",
              "3  2019-10-01  ...  Tidak Lulus\n",
              "4  2019-10-01  ...        Lulus\n",
              "\n",
              "[5 rows x 8 columns]"
            ]
          },
          "metadata": {
            "tags": []
          },
          "execution_count": 11
        }
      ]
    },
    {
      "cell_type": "code",
      "metadata": {
        "id": "3M5Okss2q1b7"
      },
      "source": [
        "#mengubah kelas (kolom \"keterangan\") dari string ke Unique-Integer\n",
        "uji[\"keterangan\"] = pd.factorize(uji.keterangan)[0]\n",
        "uji[\"nomor_kendaraan\"] = pd.factorize(uji.nomor_kendaraan)[0]\n",
        "uji[\"merek\"] = pd.factorize(uji.merek)[0]\n",
        "uji[\"bahan_bakar\"] = pd.factorize(uji.bahan_bakar)[0]\n",
        "uji[\"tipe\"] = pd.factorize(uji.tipe)[0]\n",
        "uji[\"keterangan\"] = pd.factorize(uji.keterangan)[0]\n",
        "uji[\"alat_uji\"] = pd.factorize(uji.alat_uji)[0]\n"
      ],
      "execution_count": null,
      "outputs": []
    },
    {
      "cell_type": "code",
      "metadata": {
        "colab": {
          "base_uri": "https://localhost:8080/",
          "height": 204
        },
        "id": "nCPavhXpq_81",
        "outputId": "6c6ab721-746e-4a36-9ca5-d2f0dab8b026"
      },
      "source": [
        "uji.head()"
      ],
      "execution_count": null,
      "outputs": [
        {
          "output_type": "execute_result",
          "data": {
            "text/html": [
              "<div>\n",
              "<style scoped>\n",
              "    .dataframe tbody tr th:only-of-type {\n",
              "        vertical-align: middle;\n",
              "    }\n",
              "\n",
              "    .dataframe tbody tr th {\n",
              "        vertical-align: top;\n",
              "    }\n",
              "\n",
              "    .dataframe thead th {\n",
              "        text-align: right;\n",
              "    }\n",
              "</style>\n",
              "<table border=\"1\" class=\"dataframe\">\n",
              "  <thead>\n",
              "    <tr style=\"text-align: right;\">\n",
              "      <th></th>\n",
              "      <th>tanggal_uji</th>\n",
              "      <th>nomor_kendaraan</th>\n",
              "      <th>merek</th>\n",
              "      <th>bahan_bakar</th>\n",
              "      <th>tipe</th>\n",
              "      <th>tahun_pembuatan</th>\n",
              "      <th>alat_uji</th>\n",
              "      <th>keterangan</th>\n",
              "    </tr>\n",
              "  </thead>\n",
              "  <tbody>\n",
              "    <tr>\n",
              "      <th>0</th>\n",
              "      <td>2019-10-01</td>\n",
              "      <td>0</td>\n",
              "      <td>0</td>\n",
              "      <td>0</td>\n",
              "      <td>0</td>\n",
              "      <td>2017</td>\n",
              "      <td>0</td>\n",
              "      <td>0</td>\n",
              "    </tr>\n",
              "    <tr>\n",
              "      <th>1</th>\n",
              "      <td>2019-10-01</td>\n",
              "      <td>1</td>\n",
              "      <td>1</td>\n",
              "      <td>0</td>\n",
              "      <td>0</td>\n",
              "      <td>2014</td>\n",
              "      <td>0</td>\n",
              "      <td>0</td>\n",
              "    </tr>\n",
              "    <tr>\n",
              "      <th>2</th>\n",
              "      <td>2019-10-01</td>\n",
              "      <td>2</td>\n",
              "      <td>1</td>\n",
              "      <td>0</td>\n",
              "      <td>1</td>\n",
              "      <td>2018</td>\n",
              "      <td>0</td>\n",
              "      <td>0</td>\n",
              "    </tr>\n",
              "    <tr>\n",
              "      <th>3</th>\n",
              "      <td>2019-10-01</td>\n",
              "      <td>3</td>\n",
              "      <td>2</td>\n",
              "      <td>0</td>\n",
              "      <td>0</td>\n",
              "      <td>2017</td>\n",
              "      <td>0</td>\n",
              "      <td>1</td>\n",
              "    </tr>\n",
              "    <tr>\n",
              "      <th>4</th>\n",
              "      <td>2019-10-01</td>\n",
              "      <td>4</td>\n",
              "      <td>2</td>\n",
              "      <td>0</td>\n",
              "      <td>1</td>\n",
              "      <td>2017</td>\n",
              "      <td>0</td>\n",
              "      <td>0</td>\n",
              "    </tr>\n",
              "  </tbody>\n",
              "</table>\n",
              "</div>"
            ],
            "text/plain": [
              "  tanggal_uji  nomor_kendaraan  merek  ...  tahun_pembuatan  alat_uji  keterangan\n",
              "0  2019-10-01                0      0  ...             2017         0           0\n",
              "1  2019-10-01                1      1  ...             2014         0           0\n",
              "2  2019-10-01                2      1  ...             2018         0           0\n",
              "3  2019-10-01                3      2  ...             2017         0           1\n",
              "4  2019-10-01                4      2  ...             2017         0           0\n",
              "\n",
              "[5 rows x 8 columns]"
            ]
          },
          "metadata": {
            "tags": []
          },
          "execution_count": 15
        }
      ]
    },
    {
      "cell_type": "code",
      "metadata": {
        "colab": {
          "base_uri": "https://localhost:8080/"
        },
        "id": "siMfHoInrR6t",
        "outputId": "2926de5a-2eff-4ff2-a818-8fb53e52ff1b"
      },
      "source": [
        "print(uji) #untuk mengecek semua"
      ],
      "execution_count": null,
      "outputs": [
        {
          "output_type": "stream",
          "text": [
            "     tanggal_uji  nomor_kendaraan  merek  ...  tahun_pembuatan  alat_uji  keterangan\n",
            "0     2019-10-01                0      0  ...             2017         0           0\n",
            "1     2019-10-01                1      1  ...             2014         0           0\n",
            "2     2019-10-01                2      1  ...             2018         0           0\n",
            "3     2019-10-01                3      2  ...             2017         0           1\n",
            "4     2019-10-01                4      2  ...             2017         0           0\n",
            "...          ...              ...    ...  ...              ...       ...         ...\n",
            "1494  2019-10-15              286      0  ...             2018         6           0\n",
            "1495  2019-10-15             1473     10  ...             2001        58           0\n",
            "1496  2019-10-15             1474      0  ...             2018        33           0\n",
            "1497  2019-10-15             1475      5  ...             2016        59           0\n",
            "1498  2019-10-15             1476      6  ...             2015         5           2\n",
            "\n",
            "[1499 rows x 8 columns]\n"
          ],
          "name": "stdout"
        }
      ]
    },
    {
      "cell_type": "code",
      "metadata": {
        "id": "GoCmf0OAcE5i"
      },
      "source": [
        "uji = uji.drop(labels=\"tanggal_uji\", axis=1)"
      ],
      "execution_count": null,
      "outputs": []
    },
    {
      "cell_type": "code",
      "metadata": {
        "colab": {
          "base_uri": "https://localhost:8080/"
        },
        "id": "48B6zRTbrsgp",
        "outputId": "ab9b5a85-bf90-4b00-a3d9-8bf0f88afb56"
      },
      "source": [
        "print(uji) #untuk mengecek semua"
      ],
      "execution_count": null,
      "outputs": [
        {
          "output_type": "stream",
          "text": [
            "      nomor_kendaraan  merek  ...  alat_uji  keterangan\n",
            "0                   0      0  ...         0           0\n",
            "1                   1      1  ...         0           0\n",
            "2                   2      1  ...         0           0\n",
            "3                   3      2  ...         0           1\n",
            "4                   4      2  ...         0           0\n",
            "...               ...    ...  ...       ...         ...\n",
            "1494              286      0  ...         6           0\n",
            "1495             1473     10  ...        58           0\n",
            "1496             1474      0  ...        33           0\n",
            "1497             1475      5  ...        59           0\n",
            "1498             1476      6  ...         5           2\n",
            "\n",
            "[1499 rows x 7 columns]\n"
          ],
          "name": "stdout"
        }
      ]
    },
    {
      "cell_type": "code",
      "metadata": {
        "id": "BB8thu-jr4ZB"
      },
      "source": [
        "#mengubah dataframe ke array numpy\n",
        "uji = uji.to_numpy()"
      ],
      "execution_count": null,
      "outputs": []
    },
    {
      "cell_type": "code",
      "metadata": {
        "colab": {
          "base_uri": "https://localhost:8080/"
        },
        "id": "ysH-BY8Dr8Vz",
        "outputId": "738ce0f6-c931-48e2-edb7-ee1eb9e0629a"
      },
      "source": [
        "print(uji) #untuk mengecek semua"
      ],
      "execution_count": null,
      "outputs": [
        {
          "output_type": "stream",
          "text": [
            "[[   0    0    0 ... 2017    0    0]\n",
            " [   1    1    0 ... 2014    0    0]\n",
            " [   2    1    0 ... 2018    0    0]\n",
            " ...\n",
            " [1474    0    1 ... 2018   33    0]\n",
            " [1475    5    1 ... 2016   59    0]\n",
            " [1476    6    1 ... 2015    5    2]]\n"
          ],
          "name": "stdout"
        }
      ]
    },
    {
      "cell_type": "code",
      "metadata": {
        "id": "noKhvjSTsm74"
      },
      "source": [
        "#membagi Dataset => 1300 baris data untuk training dan 199 baris data untuk testing\n",
        "dataTraining = np.concatenate((uji[0:900, :], uji[1000:1400, :]),\n",
        "                              axis=0) #data training ada 1300 baris data\n",
        "dataTesting = np.concatenate((uji[900:1000, :], uji[1400:1499, :]),\n",
        "                             axis=0) #data testing ada 199 baris data"
      ],
      "execution_count": null,
      "outputs": []
    },
    {
      "cell_type": "code",
      "metadata": {
        "colab": {
          "base_uri": "https://localhost:8080/"
        },
        "id": "Lgp4oTmguA4q",
        "outputId": "f84a1702-ee74-4fcb-b8cf-54f6d5a24b4e"
      },
      "source": [
        "print(dataTraining)\n",
        "len(dataTraining) #panjang data training"
      ],
      "execution_count": null,
      "outputs": [
        {
          "output_type": "stream",
          "text": [
            "[[   0    0    0 ... 2017    0    0]\n",
            " [   1    1    0 ... 2014    0    0]\n",
            " [   2    1    0 ... 2018    0    0]\n",
            " ...\n",
            " [1377    3    1 ... 2017   47    0]\n",
            " [1378    3    1 ... 2016   47    2]\n",
            " [1379    3    1 ... 2016    1    0]]\n"
          ],
          "name": "stdout"
        },
        {
          "output_type": "execute_result",
          "data": {
            "text/plain": [
              "1300"
            ]
          },
          "metadata": {
            "tags": []
          },
          "execution_count": 23
        }
      ]
    },
    {
      "cell_type": "code",
      "metadata": {
        "colab": {
          "base_uri": "https://localhost:8080/"
        },
        "id": "gHwiMJZouUsT",
        "outputId": "a001b13f-160b-4dd9-8110-e523c6857e79"
      },
      "source": [
        "print(dataTesting)\n",
        "len(dataTesting) #panjang data testing"
      ],
      "execution_count": null,
      "outputs": [
        {
          "output_type": "stream",
          "text": [
            "[[ 893    1    1 ... 2018   47    0]\n",
            " [ 894    3    1 ... 2014   47    0]\n",
            " [ 895    0    1 ... 2010    6    1]\n",
            " ...\n",
            " [1474    0    1 ... 2018   33    0]\n",
            " [1475    5    1 ... 2016   59    0]\n",
            " [1476    6    1 ... 2015    5    2]]\n"
          ],
          "name": "stdout"
        },
        {
          "output_type": "execute_result",
          "data": {
            "text/plain": [
              "199"
            ]
          },
          "metadata": {
            "tags": []
          },
          "execution_count": 24
        }
      ]
    },
    {
      "cell_type": "code",
      "metadata": {
        "colab": {
          "base_uri": "https://localhost:8080/"
        },
        "id": "YGQCp5isutL7",
        "outputId": "b8158af3-e783-4001-e5a4-afda8bdba6c7"
      },
      "source": [
        "#memecah dataset ke input data dan label\n",
        "inputTraining = dataTraining[:, 0:6]\n",
        "inputTesting = dataTesting[:, 0:6]\n",
        "labelTraining = dataTraining[:, 6]\n",
        "labelTesting = dataTesting[:, 6]\n",
        "print(labelTraining)\n",
        "len(labelTraining)"
      ],
      "execution_count": null,
      "outputs": [
        {
          "output_type": "stream",
          "text": [
            "[0 0 0 ... 0 2 0]\n"
          ],
          "name": "stdout"
        },
        {
          "output_type": "execute_result",
          "data": {
            "text/plain": [
              "1300"
            ]
          },
          "metadata": {
            "tags": []
          },
          "execution_count": 25
        }
      ]
    },
    {
      "cell_type": "code",
      "metadata": {
        "id": "0CkojewjvAzz"
      },
      "source": [
        "#mendefinisikan decision tree classifier\n",
        "model = tree.DecisionTreeClassifier()"
      ],
      "execution_count": null,
      "outputs": []
    },
    {
      "cell_type": "code",
      "metadata": {
        "id": "R08X2ylfvNP9"
      },
      "source": [
        "#mentraining Model\n",
        "model = model.fit(inputTraining, labelTraining)"
      ],
      "execution_count": null,
      "outputs": []
    },
    {
      "cell_type": "code",
      "metadata": {
        "colab": {
          "base_uri": "https://localhost:8080/"
        },
        "id": "LyzfitoUwnLr",
        "outputId": "e96f1cf6-226f-450d-87d4-d44135d9d2b4"
      },
      "source": [
        "#mempridiksi input data testing\n",
        "hasilPrediksi = model.predict(inputTesting)\n",
        "print(\"Label Sebenarnya : \", labelTesting)\n",
        "print(\"Hasil Prediksi : \", hasilPrediksi)"
      ],
      "execution_count": null,
      "outputs": [
        {
          "output_type": "stream",
          "text": [
            "Label Sebenarnya :  [0 0 1 0 0 0 0 0 0 0 0 0 0 0 0 0 0 0 0 0 0 0 0 0 0 0 0 0 0 0 0 0 0 0 0 0 0\n",
            " 0 0 0 0 0 0 0 0 0 1 0 1 0 0 0 1 0 0 0 0 0 0 0 0 0 0 0 0 0 0 0 0 0 0 0 0 0\n",
            " 1 0 0 0 0 0 1 0 0 0 0 0 0 0 0 0 1 0 0 0 0 0 1 0 2 0 0 1 0 0 0 1 0 0 0 0 0\n",
            " 0 1 0 0 0 0 0 0 0 0 0 0 0 0 1 0 1 0 0 0 0 0 0 1 0 0 0 0 0 0 0 0 0 0 0 0 0\n",
            " 0 0 0 0 1 0 0 0 0 0 0 0 0 1 0 0 0 0 0 0 0 0 0 0 0 0 0 0 0 0 0 0 0 0 0 0 0\n",
            " 0 0 0 0 1 0 0 0 0 0 0 0 0 2]\n",
            "Hasil Prediksi :  [0 0 0 0 0 0 0 0 0 0 0 0 0 0 0 0 0 0 0 0 0 0 0 1 0 1 0 0 0 1 0 0 0 0 0 0 0\n",
            " 0 0 0 0 0 0 0 0 0 0 0 1 0 0 0 0 0 0 0 0 0 0 0 0 0 0 0 0 0 0 0 0 0 0 0 0 0\n",
            " 0 0 0 0 0 0 1 0 0 0 0 1 1 0 0 0 0 0 0 0 0 0 1 0 0 0 0 2 1 2 2 2 2 2 2 2 2\n",
            " 2 2 2 2 2 2 2 2 2 2 2 2 2 1 2 2 2 2 2 2 1 2 2 1 2 2 2 2 2 2 2 2 2 2 2 2 2\n",
            " 2 2 2 2 1 2 2 2 2 1 2 2 2 2 1 2 2 2 2 2 2 2 2 2 1 2 2 2 2 2 2 2 2 2 1 2 2\n",
            " 2 2 1 2 2 2 1 2 0 0 1 2 2 0]\n"
          ],
          "name": "stdout"
        }
      ]
    },
    {
      "cell_type": "code",
      "metadata": {
        "colab": {
          "base_uri": "https://localhost:8080/"
        },
        "id": "_rAJ-X3Zxs40",
        "outputId": "c362c745-2c87-4cbd-fc49-06e8a40dbb83"
      },
      "source": [
        "#Menghitung Akurasi\n",
        "prediksiBenar = (hasilPrediksi == labelTesting).sum()\n",
        "prediksiSalah = (hasilPrediksi != labelTesting).sum()\n",
        "print(\"Prediksi Benar :\", prediksiBenar, \"data\")\n",
        "print(\"prediksi Salah :\", prediksiSalah, \"data\")\n",
        "print(\"Akurasi :\", prediksiBenar/(prediksiBenar+prediksiSalah) * 100, \"%\")"
      ],
      "execution_count": null,
      "outputs": [
        {
          "output_type": "stream",
          "text": [
            "Prediksi Benar : 94 data\n",
            "prediksi Salah : 105 data\n",
            "Akurasi : 47.23618090452261 %\n"
          ],
          "name": "stdout"
        }
      ]
    }
  ]
}